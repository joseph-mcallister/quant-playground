{
 "cells": [
  {
   "cell_type": "code",
   "execution_count": 24,
   "metadata": {},
   "outputs": [],
   "source": [
    "import requests\n",
    "import datetime\n",
    "import time\n",
    "import pandas as pd\n",
    "import numpy as np\n",
    "import pytrends\n",
    "import matplotlib.pyplot as plt"
   ]
  },
  {
   "cell_type": "code",
   "execution_count": 18,
   "metadata": {},
   "outputs": [],
   "source": [
    "from pytrends.request import TrendReq\n",
    "\n",
    "pytrends = TrendReq(hl='en-US', tz=360)\n",
    "\n",
    "kw_list=[\"Bitcoin crashing\"]\n",
    "data = pytrends.get_historical_interest(kw_list, year_start=2018, month_start=1, day_start=1, hour_start=0, year_end=2018, month_end=2, day_end=2, hour_end=0, cat=0, geo='', gprop='', sleep=0)"
   ]
  },
  {
   "cell_type": "code",
   "execution_count": 19,
   "metadata": {},
   "outputs": [
    {
     "data": {
      "text/html": [
       "<div>\n",
       "<style scoped>\n",
       "    .dataframe tbody tr th:only-of-type {\n",
       "        vertical-align: middle;\n",
       "    }\n",
       "\n",
       "    .dataframe tbody tr th {\n",
       "        vertical-align: top;\n",
       "    }\n",
       "\n",
       "    .dataframe thead th {\n",
       "        text-align: right;\n",
       "    }\n",
       "</style>\n",
       "<table border=\"1\" class=\"dataframe\">\n",
       "  <thead>\n",
       "    <tr style=\"text-align: right;\">\n",
       "      <th></th>\n",
       "      <th>Bitcoin crashing</th>\n",
       "      <th>isPartial</th>\n",
       "    </tr>\n",
       "    <tr>\n",
       "      <th>date</th>\n",
       "      <th></th>\n",
       "      <th></th>\n",
       "    </tr>\n",
       "  </thead>\n",
       "  <tbody>\n",
       "    <tr>\n",
       "      <th>2018-01-01 00:00:00</th>\n",
       "      <td>22</td>\n",
       "      <td>False</td>\n",
       "    </tr>\n",
       "    <tr>\n",
       "      <th>2018-01-01 01:00:00</th>\n",
       "      <td>47</td>\n",
       "      <td>False</td>\n",
       "    </tr>\n",
       "    <tr>\n",
       "      <th>2018-01-01 02:00:00</th>\n",
       "      <td>75</td>\n",
       "      <td>False</td>\n",
       "    </tr>\n",
       "    <tr>\n",
       "      <th>2018-01-01 03:00:00</th>\n",
       "      <td>78</td>\n",
       "      <td>False</td>\n",
       "    </tr>\n",
       "    <tr>\n",
       "      <th>2018-01-01 04:00:00</th>\n",
       "      <td>52</td>\n",
       "      <td>False</td>\n",
       "    </tr>\n",
       "    <tr>\n",
       "      <th>...</th>\n",
       "      <td>...</td>\n",
       "      <td>...</td>\n",
       "    </tr>\n",
       "    <tr>\n",
       "      <th>2018-02-01 20:00:00</th>\n",
       "      <td>77</td>\n",
       "      <td>False</td>\n",
       "    </tr>\n",
       "    <tr>\n",
       "      <th>2018-02-01 21:00:00</th>\n",
       "      <td>23</td>\n",
       "      <td>False</td>\n",
       "    </tr>\n",
       "    <tr>\n",
       "      <th>2018-02-01 22:00:00</th>\n",
       "      <td>28</td>\n",
       "      <td>False</td>\n",
       "    </tr>\n",
       "    <tr>\n",
       "      <th>2018-02-01 23:00:00</th>\n",
       "      <td>27</td>\n",
       "      <td>False</td>\n",
       "    </tr>\n",
       "    <tr>\n",
       "      <th>2018-02-02 00:00:00</th>\n",
       "      <td>55</td>\n",
       "      <td>False</td>\n",
       "    </tr>\n",
       "  </tbody>\n",
       "</table>\n",
       "<p>773 rows × 2 columns</p>\n",
       "</div>"
      ],
      "text/plain": [
       "                     Bitcoin crashing  isPartial\n",
       "date                                            \n",
       "2018-01-01 00:00:00                22      False\n",
       "2018-01-01 01:00:00                47      False\n",
       "2018-01-01 02:00:00                75      False\n",
       "2018-01-01 03:00:00                78      False\n",
       "2018-01-01 04:00:00                52      False\n",
       "...                               ...        ...\n",
       "2018-02-01 20:00:00                77      False\n",
       "2018-02-01 21:00:00                23      False\n",
       "2018-02-01 22:00:00                28      False\n",
       "2018-02-01 23:00:00                27      False\n",
       "2018-02-02 00:00:00                55      False\n",
       "\n",
       "[773 rows x 2 columns]"
      ]
     },
     "execution_count": 19,
     "metadata": {},
     "output_type": "execute_result"
    }
   ],
   "source": [
    "data"
   ]
  },
  {
   "cell_type": "code",
   "execution_count": 47,
   "metadata": {},
   "outputs": [
    {
     "ename": "AttributeError",
     "evalue": "module 'pytrends' has no attribute 'get_historical_interest'",
     "output_type": "error",
     "traceback": [
      "\u001b[0;31m---------------------------------------------------------------------------\u001b[0m",
      "\u001b[0;31mAttributeError\u001b[0m                            Traceback (most recent call last)",
      "\u001b[0;32m<ipython-input-47-de928842a362>\u001b[0m in \u001b[0;36m<module>\u001b[0;34m\u001b[0m\n\u001b[1;32m      1\u001b[0m \u001b[0mkw_list\u001b[0m\u001b[0;34m=\u001b[0m\u001b[0;34m[\u001b[0m\u001b[0;34m\"how to buy bitcoin\"\u001b[0m\u001b[0;34m,\u001b[0m \u001b[0;34m\"bitcoin crash\"\u001b[0m\u001b[0;34m,\u001b[0m \u001b[0;34m\"where to buy bitcoin\"\u001b[0m\u001b[0;34m,\u001b[0m \u001b[0;34m]\u001b[0m\u001b[0;34m\u001b[0m\u001b[0;34m\u001b[0m\u001b[0m\n\u001b[0;32m----> 2\u001b[0;31m \u001b[0mdata2\u001b[0m \u001b[0;34m=\u001b[0m \u001b[0mpytrends\u001b[0m\u001b[0;34m.\u001b[0m\u001b[0mget_historical_interest\u001b[0m\u001b[0;34m(\u001b[0m\u001b[0mkw_list\u001b[0m\u001b[0;34m,\u001b[0m \u001b[0myear_start\u001b[0m\u001b[0;34m=\u001b[0m\u001b[0;36m2017\u001b[0m\u001b[0;34m,\u001b[0m \u001b[0mmonth_start\u001b[0m\u001b[0;34m=\u001b[0m\u001b[0;36m6\u001b[0m\u001b[0;34m,\u001b[0m \u001b[0mday_start\u001b[0m\u001b[0;34m=\u001b[0m\u001b[0;36m1\u001b[0m\u001b[0;34m,\u001b[0m \u001b[0mhour_start\u001b[0m\u001b[0;34m=\u001b[0m\u001b[0;36m0\u001b[0m\u001b[0;34m,\u001b[0m \u001b[0myear_end\u001b[0m\u001b[0;34m=\u001b[0m\u001b[0;36m2018\u001b[0m\u001b[0;34m,\u001b[0m \u001b[0mmonth_end\u001b[0m\u001b[0;34m=\u001b[0m\u001b[0;36m2\u001b[0m\u001b[0;34m,\u001b[0m \u001b[0mday_end\u001b[0m\u001b[0;34m=\u001b[0m\u001b[0;36m2\u001b[0m\u001b[0;34m,\u001b[0m \u001b[0mhour_end\u001b[0m\u001b[0;34m=\u001b[0m\u001b[0;36m0\u001b[0m\u001b[0;34m,\u001b[0m \u001b[0mcat\u001b[0m\u001b[0;34m=\u001b[0m\u001b[0;36m0\u001b[0m\u001b[0;34m,\u001b[0m \u001b[0mgeo\u001b[0m\u001b[0;34m=\u001b[0m\u001b[0;34m''\u001b[0m\u001b[0;34m,\u001b[0m \u001b[0mgprop\u001b[0m\u001b[0;34m=\u001b[0m\u001b[0;34m''\u001b[0m\u001b[0;34m,\u001b[0m \u001b[0msleep\u001b[0m\u001b[0;34m=\u001b[0m\u001b[0;36m0\u001b[0m\u001b[0;34m)\u001b[0m\u001b[0;34m\u001b[0m\u001b[0;34m\u001b[0m\u001b[0m\n\u001b[0m",
      "\u001b[0;31mAttributeError\u001b[0m: module 'pytrends' has no attribute 'get_historical_interest'"
     ]
    }
   ],
   "source": [
    "kw_list=[\"how to buy bitcoin\", \"bitcoin crash\", \"where to buy bitcoin\", \"sell bitcoin\", \"bitcoin price\"]\n",
    "data2 = pytrends.get_historical_interest(kw_list, year_start=2017, month_start=6, day_start=1, hour_start=0, year_end=2018, month_end=2, day_end=2, hour_end=0, cat=0, geo='', gprop='', sleep=0)"
   ]
  },
  {
   "cell_type": "code",
   "execution_count": 46,
   "metadata": {},
   "outputs": [
    {
     "data": {
      "text/plain": [
       "<AxesSubplot:xlabel='date'>"
      ]
     },
     "execution_count": 46,
     "metadata": {},
     "output_type": "execute_result"
    },
    {
     "data": {
      "image/png": "[encoded data removed]",
      "text/plain": [
       "<Figure size 432x288 with 1 Axes>"
      ]
     },
     "metadata": {
      "needs_background": "light"
     },
     "output_type": "display_data"
    },
    {
     "data": {
      "image/png": "[encoded data removed]",
      "text/plain": [
       "<Figure size 432x288 with 1 Axes>"
      ]
     },
     "metadata": {
      "needs_background": "light"
     },
     "output_type": "display_data"
    }
   ],
   "source": [
    "data2.iloc[::(24*2), :].plot()\n",
    "data.plot()"
   ]
  },
  {
   "cell_type": "code",
   "execution_count": 26,
   "metadata": {},
   "outputs": [
    {
     "ename": "KeyError",
     "evalue": "'date'",
     "output_type": "error",
     "traceback": [
      "\u001b[0;31m---------------------------------------------------------------------------\u001b[0m",
      "\u001b[0;31mKeyError\u001b[0m                                  Traceback (most recent call last)",
      "\u001b[0;32m~/.local/share/virtualenvs/quant-trading-rDfol2bw/lib/python3.6/site-packages/pandas/core/indexes/base.py\u001b[0m in \u001b[0;36mget_loc\u001b[0;34m(self, key, method, tolerance)\u001b[0m\n\u001b[1;32m   2897\u001b[0m             \u001b[0;32mtry\u001b[0m\u001b[0;34m:\u001b[0m\u001b[0;34m\u001b[0m\u001b[0;34m\u001b[0m\u001b[0m\n\u001b[0;32m-> 2898\u001b[0;31m                 \u001b[0;32mreturn\u001b[0m \u001b[0mself\u001b[0m\u001b[0;34m.\u001b[0m\u001b[0m_engine\u001b[0m\u001b[0;34m.\u001b[0m\u001b[0mget_loc\u001b[0m\u001b[0;34m(\u001b[0m\u001b[0mcasted_key\u001b[0m\u001b[0;34m)\u001b[0m\u001b[0;34m\u001b[0m\u001b[0;34m\u001b[0m\u001b[0m\n\u001b[0m\u001b[1;32m   2899\u001b[0m             \u001b[0;32mexcept\u001b[0m \u001b[0mKeyError\u001b[0m \u001b[0;32mas\u001b[0m \u001b[0merr\u001b[0m\u001b[0;34m:\u001b[0m\u001b[0;34m\u001b[0m\u001b[0;34m\u001b[0m\u001b[0m\n",
      "\u001b[0;32mpandas/_libs/index.pyx\u001b[0m in \u001b[0;36mpandas._libs.index.IndexEngine.get_loc\u001b[0;34m()\u001b[0m\n",
      "\u001b[0;32mpandas/_libs/index.pyx\u001b[0m in \u001b[0;36mpandas._libs.index.IndexEngine.get_loc\u001b[0;34m()\u001b[0m\n",
      "\u001b[0;32mpandas/_libs/hashtable_class_helper.pxi\u001b[0m in \u001b[0;36mpandas._libs.hashtable.PyObjectHashTable.get_item\u001b[0;34m()\u001b[0m\n",
      "\u001b[0;32mpandas/_libs/hashtable_class_helper.pxi\u001b[0m in \u001b[0;36mpandas._libs.hashtable.PyObjectHashTable.get_item\u001b[0;34m()\u001b[0m\n",
      "\u001b[0;31mKeyError\u001b[0m: 'date'",
      "\nThe above exception was the direct cause of the following exception:\n",
      "\u001b[0;31mKeyError\u001b[0m                                  Traceback (most recent call last)",
      "\u001b[0;32m<ipython-input-26-27593314cfba>\u001b[0m in \u001b[0;36m<module>\u001b[0;34m\u001b[0m\n\u001b[0;32m----> 1\u001b[0;31m \u001b[0mplt\u001b[0m\u001b[0;34m.\u001b[0m\u001b[0mplot\u001b[0m\u001b[0;34m(\u001b[0m\u001b[0mnp\u001b[0m\u001b[0;34m.\u001b[0m\u001b[0masarray\u001b[0m\u001b[0;34m(\u001b[0m\u001b[0mdata\u001b[0m\u001b[0;34m[\u001b[0m\u001b[0;34m\"date\"\u001b[0m\u001b[0;34m]\u001b[0m\u001b[0;34m,\u001b[0m \u001b[0mdtype\u001b[0m\u001b[0;34m=\u001b[0m\u001b[0;34m'datetime64[s]'\u001b[0m\u001b[0;34m)\u001b[0m\u001b[0;34m,\u001b[0m\u001b[0mdata\u001b[0m\u001b[0;34m[\u001b[0m\u001b[0;34m\"Bitcoin crashing\"\u001b[0m\u001b[0;34m]\u001b[0m\u001b[0;34m)\u001b[0m\u001b[0;34m\u001b[0m\u001b[0;34m\u001b[0m\u001b[0m\n\u001b[0m",
      "\u001b[0;32m~/.local/share/virtualenvs/quant-trading-rDfol2bw/lib/python3.6/site-packages/pandas/core/frame.py\u001b[0m in \u001b[0;36m__getitem__\u001b[0;34m(self, key)\u001b[0m\n\u001b[1;32m   2904\u001b[0m             \u001b[0;32mif\u001b[0m \u001b[0mself\u001b[0m\u001b[0;34m.\u001b[0m\u001b[0mcolumns\u001b[0m\u001b[0;34m.\u001b[0m\u001b[0mnlevels\u001b[0m \u001b[0;34m>\u001b[0m \u001b[0;36m1\u001b[0m\u001b[0;34m:\u001b[0m\u001b[0;34m\u001b[0m\u001b[0;34m\u001b[0m\u001b[0m\n\u001b[1;32m   2905\u001b[0m                 \u001b[0;32mreturn\u001b[0m \u001b[0mself\u001b[0m\u001b[0;34m.\u001b[0m\u001b[0m_getitem_multilevel\u001b[0m\u001b[0;34m(\u001b[0m\u001b[0mkey\u001b[0m\u001b[0;34m)\u001b[0m\u001b[0;34m\u001b[0m\u001b[0;34m\u001b[0m\u001b[0m\n\u001b[0;32m-> 2906\u001b[0;31m             \u001b[0mindexer\u001b[0m \u001b[0;34m=\u001b[0m \u001b[0mself\u001b[0m\u001b[0;34m.\u001b[0m\u001b[0mcolumns\u001b[0m\u001b[0;34m.\u001b[0m\u001b[0mget_loc\u001b[0m\u001b[0;34m(\u001b[0m\u001b[0mkey\u001b[0m\u001b[0;34m)\u001b[0m\u001b[0;34m\u001b[0m\u001b[0;34m\u001b[0m\u001b[0m\n\u001b[0m\u001b[1;32m   2907\u001b[0m             \u001b[0;32mif\u001b[0m \u001b[0mis_integer\u001b[0m\u001b[0;34m(\u001b[0m\u001b[0mindexer\u001b[0m\u001b[0;34m)\u001b[0m\u001b[0;34m:\u001b[0m\u001b[0;34m\u001b[0m\u001b[0;34m\u001b[0m\u001b[0m\n\u001b[1;32m   2908\u001b[0m                 \u001b[0mindexer\u001b[0m \u001b[0;34m=\u001b[0m \u001b[0;34m[\u001b[0m\u001b[0mindexer\u001b[0m\u001b[0;34m]\u001b[0m\u001b[0;34m\u001b[0m\u001b[0;34m\u001b[0m\u001b[0m\n",
      "\u001b[0;32m~/.local/share/virtualenvs/quant-trading-rDfol2bw/lib/python3.6/site-packages/pandas/core/indexes/base.py\u001b[0m in \u001b[0;36mget_loc\u001b[0;34m(self, key, method, tolerance)\u001b[0m\n\u001b[1;32m   2898\u001b[0m                 \u001b[0;32mreturn\u001b[0m \u001b[0mself\u001b[0m\u001b[0;34m.\u001b[0m\u001b[0m_engine\u001b[0m\u001b[0;34m.\u001b[0m\u001b[0mget_loc\u001b[0m\u001b[0;34m(\u001b[0m\u001b[0mcasted_key\u001b[0m\u001b[0;34m)\u001b[0m\u001b[0;34m\u001b[0m\u001b[0;34m\u001b[0m\u001b[0m\n\u001b[1;32m   2899\u001b[0m             \u001b[0;32mexcept\u001b[0m \u001b[0mKeyError\u001b[0m \u001b[0;32mas\u001b[0m \u001b[0merr\u001b[0m\u001b[0;34m:\u001b[0m\u001b[0;34m\u001b[0m\u001b[0;34m\u001b[0m\u001b[0m\n\u001b[0;32m-> 2900\u001b[0;31m                 \u001b[0;32mraise\u001b[0m \u001b[0mKeyError\u001b[0m\u001b[0;34m(\u001b[0m\u001b[0mkey\u001b[0m\u001b[0;34m)\u001b[0m \u001b[0;32mfrom\u001b[0m \u001b[0merr\u001b[0m\u001b[0;34m\u001b[0m\u001b[0;34m\u001b[0m\u001b[0m\n\u001b[0m\u001b[1;32m   2901\u001b[0m \u001b[0;34m\u001b[0m\u001b[0m\n\u001b[1;32m   2902\u001b[0m         \u001b[0;32mif\u001b[0m \u001b[0mtolerance\u001b[0m \u001b[0;32mis\u001b[0m \u001b[0;32mnot\u001b[0m \u001b[0;32mNone\u001b[0m\u001b[0;34m:\u001b[0m\u001b[0;34m\u001b[0m\u001b[0;34m\u001b[0m\u001b[0m\n",
      "\u001b[0;31mKeyError\u001b[0m: 'date'"
     ]
    }
   ],
   "source": [
    "plt.plot(np.asarray(data[\"date\"], dtype='datetime64[s]'),data[\"Bitcoin crashing\"])"
   ]
  },
  {
   "cell_type": "code",
   "execution_count": 187,
   "metadata": {},
   "outputs": [
    {
     "data": {
      "text/plain": [
       "[[1609113600, 26086.19, 26955.44, 26255.16, 26845.64, 1418.01702094],\n",
       " [1609110000, 26205.11, 26677.72, 26493.96, 26258.65, 1276.38185369],\n",
       " [1609106400, 26255, 26637.69, 26390.97, 26493.96, 950.25761812],\n",
       " [1609102800, 25772.55, 26444.65, 26184.83, 26388.94, 2844.36442243],\n",
       " [1609099200, 26134.79, 27070, 27058.39, 26194.55, 1839.56535711],\n",
       " [1609095600, 26951.01, 27274, 27024.2, 27058.39, 804.29465546],\n",
       " [1609092000, 26526, 27025, 26767.36, 27024.07, 1223.29475663],\n",
       " [1609088400, 26636.12, 27056.81, 27056.81, 26767.36, 1186.85176376],\n",
       " [1609084800, 26580, 27446.7, 27347.7, 27051.87, 2693.20303375],\n",
       " [1609081200, 27000, 27459.67, 27309.24, 27347.69, 1489.41402411],\n",
       " [1609077600, 27220.33, 27749.51, 27490.85, 27307.34, 1564.49125579],\n",
       " [1609074000, 27032.84, 27550, 27202.41, 27495.48, 1139.20603384],\n",
       " [1609070400, 26362.67, 27623.19, 27623.19, 27189.51, 2359.82878026],\n",
       " [1609066800, 26809.76, 28387, 27803.51, 27612.27, 2587.05855359],\n",
       " [1609063200, 27666.96, 27869.5, 27790, 27803.47, 382.47235521],\n",
       " [1609059600, 27201.23, 27825.02, 27445.37, 27792.72, 927.87787713],\n",
       " [1609056000, 27348, 27922, 27608.96, 27441.45, 1086.90745426],\n",
       " [1609052400, 27430.41, 27794.64, 27607.4, 27608.96, 971.50282849],\n",
       " [1609048800, 26870.83, 27711, 26879, 27613.26, 2569.71634882],\n",
       " [1609045200, 26691.93, 26928, 26731.51, 26879.01, 515.12086503],\n",
       " [1609041600, 26553.89, 26810, 26555.48, 26730.88, 607.49995204],\n",
       " [1609038000, 26435.85, 26648.66, 26571.85, 26555.25, 705.26398254],\n",
       " [1609034400, 26500, 26861.29, 26624.97, 26571.84, 1064.05626881],\n",
       " [1609030800, 26523.86, 26950, 26739.53, 26632.55, 1592.91940759],\n",
       " [1609027200, 26475.92, 26855, 26482.64, 26740.47, 1245.45801051]]"
      ]
     },
     "execution_count": 187,
     "metadata": {},
     "output_type": "execute_result"
    }
   ],
   "source": [
    "r = requests.get('https://api.pro.coinbase.com/products/BTC-USD/candles?start=2020-12-27T00:00:00Z&end=2020-12-28T00:00:00Z&granularity=3600')\n",
    "r.json()"
   ]
  },
  {
   "cell_type": "code",
   "execution_count": null,
   "metadata": {},
   "outputs": [],
   "source": []
  },
  {
   "cell_type": "code",
   "execution_count": null,
   "metadata": {},
   "outputs": [],
   "source": []
  },
  {
   "cell_type": "code",
   "execution_count": 188,
   "metadata": {},
   "outputs": [],
   "source": [
    "def get_coinbase_data(start, end, granularity=86400, product_id=\"BTC-USD\"):\n",
    "    assert start >= datetime.datetime(2015, 7, 20)\n",
    "    request_url = \"https://api.pro.coinbase.com/products/{}/candles?start={}&end={}&granularity={}\".format(product_id, start.isoformat(), end.isoformat(), granularity)\n",
    "    r = requests.get(request_url)\n",
    "    return r.json()"
   ]
  },
  {
   "cell_type": "code",
   "execution_count": 189,
   "metadata": {},
   "outputs": [],
   "source": [
    "start = datetime.datetime(2015, 7, 20)\n",
    "end = datetime.datetime.now()\n",
    "\n",
    "def fetch_historic_data():\n",
    "    curr_start = start\n",
    "    curr_end = curr_start + datetime.timedelta(days=10)\n",
    "    df = pd.DataFrame()\n",
    "    while curr_start < end:\n",
    "        data = get_coinbase_data(curr_start, curr_end, 3600)\n",
    "        df = df.append(pd.DataFrame(np.array(data)[::-1]))\n",
    "        \n",
    "        curr_start = curr_end\n",
    "        curr_end = curr_start + datetime.timedelta(days=10)\n",
    "        time.sleep(0.4)\n",
    "    return df\n",
    "\n",
    "historic_df = fetch_historic_data()\n",
    "historic_df.columns = [\"time\", \"low\", \"high\", \"open\", \"close\", \"volume\"]"
   ]
  },
  {
   "cell_type": "code",
   "execution_count": 190,
   "metadata": {},
   "outputs": [
    {
     "data": {
      "text/html": [
       "<div>\n",
       "<style scoped>\n",
       "    .dataframe tbody tr th:only-of-type {\n",
       "        vertical-align: middle;\n",
       "    }\n",
       "\n",
       "    .dataframe tbody tr th {\n",
       "        vertical-align: top;\n",
       "    }\n",
       "\n",
       "    .dataframe thead th {\n",
       "        text-align: right;\n",
       "    }\n",
       "</style>\n",
       "<table border=\"1\" class=\"dataframe\">\n",
       "  <thead>\n",
       "    <tr style=\"text-align: right;\">\n",
       "      <th></th>\n",
       "      <th>Unnamed: 0</th>\n",
       "      <th>time</th>\n",
       "      <th>low</th>\n",
       "      <th>high</th>\n",
       "      <th>open</th>\n",
       "      <th>close</th>\n",
       "      <th>volume</th>\n",
       "    </tr>\n",
       "  </thead>\n",
       "  <tbody>\n",
       "    <tr>\n",
       "      <th>0</th>\n",
       "      <td>0</td>\n",
       "      <td>1.437426e+09</td>\n",
       "      <td>277.92</td>\n",
       "      <td>278.00</td>\n",
       "      <td>277.98</td>\n",
       "      <td>278.00</td>\n",
       "      <td>59.260456</td>\n",
       "    </tr>\n",
       "    <tr>\n",
       "      <th>1</th>\n",
       "      <td>1</td>\n",
       "      <td>1.437430e+09</td>\n",
       "      <td>277.37</td>\n",
       "      <td>278.50</td>\n",
       "      <td>278.00</td>\n",
       "      <td>278.14</td>\n",
       "      <td>346.995411</td>\n",
       "    </tr>\n",
       "    <tr>\n",
       "      <th>2</th>\n",
       "      <td>2</td>\n",
       "      <td>1.437433e+09</td>\n",
       "      <td>278.15</td>\n",
       "      <td>280.00</td>\n",
       "      <td>278.31</td>\n",
       "      <td>280.00</td>\n",
       "      <td>376.627552</td>\n",
       "    </tr>\n",
       "    <tr>\n",
       "      <th>3</th>\n",
       "      <td>3</td>\n",
       "      <td>1.437437e+09</td>\n",
       "      <td>279.38</td>\n",
       "      <td>281.00</td>\n",
       "      <td>279.96</td>\n",
       "      <td>280.89</td>\n",
       "      <td>288.177976</td>\n",
       "    </tr>\n",
       "    <tr>\n",
       "      <th>4</th>\n",
       "      <td>4</td>\n",
       "      <td>1.437440e+09</td>\n",
       "      <td>280.35</td>\n",
       "      <td>281.15</td>\n",
       "      <td>280.89</td>\n",
       "      <td>280.36</td>\n",
       "      <td>380.933023</td>\n",
       "    </tr>\n",
       "    <tr>\n",
       "      <th>...</th>\n",
       "      <td>...</td>\n",
       "      <td>...</td>\n",
       "      <td>...</td>\n",
       "      <td>...</td>\n",
       "      <td>...</td>\n",
       "      <td>...</td>\n",
       "      <td>...</td>\n",
       "    </tr>\n",
       "    <tr>\n",
       "      <th>47664</th>\n",
       "      <td>207</td>\n",
       "      <td>1.609168e+09</td>\n",
       "      <td>26775.94</td>\n",
       "      <td>27295.67</td>\n",
       "      <td>27251.85</td>\n",
       "      <td>26883.52</td>\n",
       "      <td>1587.736538</td>\n",
       "    </tr>\n",
       "    <tr>\n",
       "      <th>47665</th>\n",
       "      <td>208</td>\n",
       "      <td>1.609171e+09</td>\n",
       "      <td>26708.43</td>\n",
       "      <td>27141.45</td>\n",
       "      <td>26880.90</td>\n",
       "      <td>27030.27</td>\n",
       "      <td>1018.701436</td>\n",
       "    </tr>\n",
       "    <tr>\n",
       "      <th>47666</th>\n",
       "      <td>209</td>\n",
       "      <td>1.609175e+09</td>\n",
       "      <td>27002.76</td>\n",
       "      <td>27200.00</td>\n",
       "      <td>27030.27</td>\n",
       "      <td>27114.27</td>\n",
       "      <td>792.641173</td>\n",
       "    </tr>\n",
       "    <tr>\n",
       "      <th>47667</th>\n",
       "      <td>210</td>\n",
       "      <td>1.609178e+09</td>\n",
       "      <td>26880.93</td>\n",
       "      <td>27200.00</td>\n",
       "      <td>27115.67</td>\n",
       "      <td>26982.81</td>\n",
       "      <td>862.907883</td>\n",
       "    </tr>\n",
       "    <tr>\n",
       "      <th>47668</th>\n",
       "      <td>211</td>\n",
       "      <td>1.609182e+09</td>\n",
       "      <td>26982.81</td>\n",
       "      <td>27147.00</td>\n",
       "      <td>26983.03</td>\n",
       "      <td>27146.68</td>\n",
       "      <td>277.678890</td>\n",
       "    </tr>\n",
       "  </tbody>\n",
       "</table>\n",
       "<p>47669 rows × 7 columns</p>\n",
       "</div>"
      ],
      "text/plain": [
       "       Unnamed: 0          time       low      high      open     close  \\\n",
       "0               0  1.437426e+09    277.92    278.00    277.98    278.00   \n",
       "1               1  1.437430e+09    277.37    278.50    278.00    278.14   \n",
       "2               2  1.437433e+09    278.15    280.00    278.31    280.00   \n",
       "3               3  1.437437e+09    279.38    281.00    279.96    280.89   \n",
       "4               4  1.437440e+09    280.35    281.15    280.89    280.36   \n",
       "...           ...           ...       ...       ...       ...       ...   \n",
       "47664         207  1.609168e+09  26775.94  27295.67  27251.85  26883.52   \n",
       "47665         208  1.609171e+09  26708.43  27141.45  26880.90  27030.27   \n",
       "47666         209  1.609175e+09  27002.76  27200.00  27030.27  27114.27   \n",
       "47667         210  1.609178e+09  26880.93  27200.00  27115.67  26982.81   \n",
       "47668         211  1.609182e+09  26982.81  27147.00  26983.03  27146.68   \n",
       "\n",
       "            volume  \n",
       "0        59.260456  \n",
       "1       346.995411  \n",
       "2       376.627552  \n",
       "3       288.177976  \n",
       "4       380.933023  \n",
       "...            ...  \n",
       "47664  1587.736538  \n",
       "47665  1018.701436  \n",
       "47666   792.641173  \n",
       "47667   862.907883  \n",
       "47668   277.678890  \n",
       "\n",
       "[47669 rows x 7 columns]"
      ]
     },
     "execution_count": 190,
     "metadata": {},
     "output_type": "execute_result"
    }
   ],
   "source": [
    "historic_df = historic_df.drop_duplicates(subset=['time'])\n",
    "historic_df.to_csv(\"../data/raw/bitcoin_prices_v3.csv\")\n",
    "pd.read_csv(\"../data/raw/bitcoin_prices_v3.csv\")"
   ]
  },
  {
   "cell_type": "markdown",
   "metadata": {},
   "source": [
    "### Fill in missing data values with linear interpolation"
   ]
  },
  {
   "cell_type": "code",
   "execution_count": 191,
   "metadata": {},
   "outputs": [
    {
     "name": "stdout",
     "output_type": "stream",
     "text": [
      "1437426000.0 1609135200.0\n",
      "(47656, 7)\n",
      "<class 'pandas.core.frame.DataFrame'>\n",
      "Int64Index: 47698 entries, 0 to 47697\n",
      "Data columns (total 6 columns):\n",
      " #   Column  Non-Null Count  Dtype  \n",
      "---  ------  --------------  -----  \n",
      " 0   Time    47698 non-null  float64\n",
      " 1   Low     47698 non-null  float64\n",
      " 2   High    47698 non-null  float64\n",
      " 3   Open    47698 non-null  float64\n",
      " 4   Close   47698 non-null  float64\n",
      " 5   Volume  47698 non-null  float64\n",
      "dtypes: float64(6)\n",
      "memory usage: 2.5 MB\n"
     ]
    }
   ],
   "source": [
    "## Clean data and save as csv\n",
    "\n",
    "df = pd.read_csv(\"../data/raw/bitcoin_prices_v1.csv\")\n",
    "\n",
    "start_time = df.iloc[0][\"time\"]\n",
    "end_time = df.iloc[-1][\"time\"]\n",
    "print(start_time, end_time)\n",
    "print(df.shape)\n",
    "\n",
    "all_data = pd.DataFrame(np.arange(start_time,end_time+1,3600))\n",
    "all_data.columns = [\"time\"]\n",
    "\n",
    "all_data = all_data.merge(df, 'left')\n",
    "\n",
    "all_data = all_data.interpolate() # fill in missing data\n",
    "\n",
    "all_data.columns = [\"Time\",\"\",\"Low\",\"High\",\"Open\",\"Close\",\"Volume\"]\n",
    "\n",
    "all_data = all_data.drop([\"\"], axis=1)\n",
    "all_data.info()\n"
   ]
  },
  {
   "cell_type": "markdown",
   "metadata": {},
   "source": [
    "### Clean up clear outliers/bad data points\n",
    "Code snippet below shows that row 15242 has an open and low of 0.06 despite the high and close being well over $1000. Solution is to remove bad values and interpolate"
   ]
  },
  {
   "cell_type": "code",
   "execution_count": 192,
   "metadata": {},
   "outputs": [
    {
     "name": "stdout",
     "output_type": "stream",
     "text": [
      "               Time     Low     High    Open    Close       Volume\n",
      "15242  1.492297e+09    0.06  1186.60    0.06  1178.85   489.405359\n",
      "844    1.440464e+09  200.00   207.38  200.00   206.81  2737.774928\n",
      "847    1.440475e+09  203.78   210.84  205.50   208.54  1070.619850\n",
      "845    1.440468e+09  206.05   210.00  207.10   210.00  1061.798656\n",
      "848    1.440479e+09  208.33   214.49  208.45   211.02   650.274509\n",
      "               Time       Low      High      Open     Close       Volume\n",
      "47695  1.609128e+09  26820.00  27297.00  27265.66  26846.52   825.431767\n",
      "47682  1.609081e+09  27000.00  27459.67  27309.24  27347.69  1489.414024\n",
      "47683  1.609085e+09  26580.00  27446.70  27347.70  27051.87  2693.203034\n",
      "47676  1.609060e+09  27201.23  27825.02  27445.37  27792.72   927.877877\n",
      "47681  1.609078e+09  27220.33  27749.51  27490.85  27307.34  1564.491256\n"
     ]
    }
   ],
   "source": [
    "open_mins = all_data.iloc[np.argsort(all_data[\"Open\"])][:10]\n",
    "open_maxes = all_data.iloc[np.argsort(all_data[\"Open\"])][-10:]\n",
    "print(open_mins.head())\n",
    "print(open_maxes.head())"
   ]
  },
  {
   "cell_type": "code",
   "execution_count": 194,
   "metadata": {},
   "outputs": [
    {
     "data": {
      "text/html": [
       "<div>\n",
       "<style scoped>\n",
       "    .dataframe tbody tr th:only-of-type {\n",
       "        vertical-align: middle;\n",
       "    }\n",
       "\n",
       "    .dataframe tbody tr th {\n",
       "        vertical-align: top;\n",
       "    }\n",
       "\n",
       "    .dataframe thead th {\n",
       "        text-align: right;\n",
       "    }\n",
       "</style>\n",
       "<table border=\"1\" class=\"dataframe\">\n",
       "  <thead>\n",
       "    <tr style=\"text-align: right;\">\n",
       "      <th></th>\n",
       "      <th>Time</th>\n",
       "      <th>Low</th>\n",
       "      <th>High</th>\n",
       "      <th>Open</th>\n",
       "      <th>Close</th>\n",
       "      <th>Volume</th>\n",
       "    </tr>\n",
       "  </thead>\n",
       "  <tbody>\n",
       "    <tr>\n",
       "      <th>count</th>\n",
       "      <td>4.769800e+04</td>\n",
       "      <td>47698.000000</td>\n",
       "      <td>47698.000000</td>\n",
       "      <td>47698.000000</td>\n",
       "      <td>47698.000000</td>\n",
       "      <td>47698.000000</td>\n",
       "    </tr>\n",
       "    <tr>\n",
       "      <th>mean</th>\n",
       "      <td>1.523281e+09</td>\n",
       "      <td>5548.293815</td>\n",
       "      <td>5609.228933</td>\n",
       "      <td>5580.260680</td>\n",
       "      <td>5580.870338</td>\n",
       "      <td>517.242494</td>\n",
       "    </tr>\n",
       "    <tr>\n",
       "      <th>std</th>\n",
       "      <td>4.956974e+07</td>\n",
       "      <td>4651.227386</td>\n",
       "      <td>4711.102742</td>\n",
       "      <td>4682.634978</td>\n",
       "      <td>4683.569402</td>\n",
       "      <td>750.515535</td>\n",
       "    </tr>\n",
       "    <tr>\n",
       "      <th>min</th>\n",
       "      <td>1.437426e+09</td>\n",
       "      <td>198.020000</td>\n",
       "      <td>207.380000</td>\n",
       "      <td>200.000000</td>\n",
       "      <td>200.000000</td>\n",
       "      <td>0.280000</td>\n",
       "    </tr>\n",
       "    <tr>\n",
       "      <th>25%</th>\n",
       "      <td>1.480353e+09</td>\n",
       "      <td>748.455000</td>\n",
       "      <td>753.570000</td>\n",
       "      <td>751.112500</td>\n",
       "      <td>751.595000</td>\n",
       "      <td>182.558806</td>\n",
       "    </tr>\n",
       "    <tr>\n",
       "      <th>50%</th>\n",
       "      <td>1.523281e+09</td>\n",
       "      <td>5549.615000</td>\n",
       "      <td>5624.730000</td>\n",
       "      <td>5586.930000</td>\n",
       "      <td>5586.940000</td>\n",
       "      <td>312.708277</td>\n",
       "    </tr>\n",
       "    <tr>\n",
       "      <th>75%</th>\n",
       "      <td>1.566208e+09</td>\n",
       "      <td>8852.420000</td>\n",
       "      <td>8948.000000</td>\n",
       "      <td>8902.497500</td>\n",
       "      <td>8902.917500</td>\n",
       "      <td>577.812748</td>\n",
       "    </tr>\n",
       "    <tr>\n",
       "      <th>max</th>\n",
       "      <td>1.609135e+09</td>\n",
       "      <td>27666.960000</td>\n",
       "      <td>28387.000000</td>\n",
       "      <td>27803.510000</td>\n",
       "      <td>27803.470000</td>\n",
       "      <td>31505.461253</td>\n",
       "    </tr>\n",
       "  </tbody>\n",
       "</table>\n",
       "</div>"
      ],
      "text/plain": [
       "               Time           Low          High          Open         Close  \\\n",
       "count  4.769800e+04  47698.000000  47698.000000  47698.000000  47698.000000   \n",
       "mean   1.523281e+09   5548.293815   5609.228933   5580.260680   5580.870338   \n",
       "std    4.956974e+07   4651.227386   4711.102742   4682.634978   4683.569402   \n",
       "min    1.437426e+09    198.020000    207.380000    200.000000    200.000000   \n",
       "25%    1.480353e+09    748.455000    753.570000    751.112500    751.595000   \n",
       "50%    1.523281e+09   5549.615000   5624.730000   5586.930000   5586.940000   \n",
       "75%    1.566208e+09   8852.420000   8948.000000   8902.497500   8902.917500   \n",
       "max    1.609135e+09  27666.960000  28387.000000  27803.510000  27803.470000   \n",
       "\n",
       "             Volume  \n",
       "count  47698.000000  \n",
       "mean     517.242494  \n",
       "std      750.515535  \n",
       "min        0.280000  \n",
       "25%      182.558806  \n",
       "50%      312.708277  \n",
       "75%      577.812748  \n",
       "max    31505.461253  "
      ]
     },
     "execution_count": 194,
     "metadata": {},
     "output_type": "execute_result"
    }
   ],
   "source": [
    "all_data[\"Low\"].iloc[15242] = np.nan\n",
    "all_data[\"Open\"].iloc[15242] = np.nan\n",
    "all_data = all_data.interpolate() # interpolate two missing values\n",
    "all_data.describe()"
   ]
  },
  {
   "cell_type": "code",
   "execution_count": 195,
   "metadata": {},
   "outputs": [],
   "source": [
    "all_data.to_csv(\"../data/clean/bitcoin_prices.csv\")"
   ]
  },
  {
   "cell_type": "code",
   "execution_count": null,
   "metadata": {},
   "outputs": [],
   "source": []
  }
 ],
 "metadata": {
  "kernelspec": {
   "display_name": "quant-trading",
   "language": "python",
   "name": "quant-trading"
  },
  "language_info": {
   "codemirror_mode": {
    "name": "ipython",
    "version": 3
   },
   "file_extension": ".py",
   "mimetype": "text/x-python",
   "name": "python",
   "nbconvert_exporter": "python",
   "pygments_lexer": "ipython3",
   "version": "3.6.9"
  }
 },
 "nbformat": 4,
 "nbformat_minor": 4
}
