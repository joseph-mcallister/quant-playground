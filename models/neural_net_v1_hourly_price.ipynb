{
 "cells": [
  {
   "cell_type": "code",
   "execution_count": 7,
   "metadata": {},
   "outputs": [],
   "source": [
    "import requests\n",
    "import datetime\n",
    "import time\n",
    "import pandas as pd\n",
    "import numpy as np\n",
    "import matplotlib.pyplot as plt\n",
    "from sklearn.model_selection import train_test_split\n",
    "from sklearn import metrics\n",
    "from sklearn.neural_network import MLPClassifier, MLPRegressor\n",
    "import pickle"
   ]
  },
  {
   "cell_type": "code",
   "execution_count": 8,
   "metadata": {},
   "outputs": [],
   "source": [
    "def moving_average(x, w):\n",
    "        moving_avg = np.convolve(x, np.ones(w), 'valid') / w\n",
    "        padding = np.full_like(np.empty(w), np.nan)\n",
    "        return np.insert(moving_avg, 0, padding)\n",
    "\n",
    "def moving_avg_diff(short, long):\n",
    "        return (short - long) / long\n"
   ]
  },
  {
   "cell_type": "markdown",
   "metadata": {},
   "source": [
    "## Binary Directional Prediction"
   ]
  },
  {
   "cell_type": "code",
   "execution_count": 9,
   "metadata": {},
   "outputs": [],
   "source": [
    "def get_X_y(df, binary_output=True):\n",
    "    \n",
    "    min_period = 24*31 + 1\n",
    "    \n",
    "    percent_change = (df[\"Close\"] - df[\"Close\"].shift(1)) / df[\"Close\"].shift(1)\n",
    "    print(percent_change[:5])\n",
    "\n",
    "    y = percent_change.copy()\n",
    "    \n",
    "    print(len(y))\n",
    "    \n",
    "    ## TEMP\n",
    "    if binary_output == True:\n",
    "        y = np.zeros(percent_change.shape)\n",
    "        y[np.where(percent_change > 0)] = 1\n",
    "    else:\n",
    "        y = y.to_numpy()\n",
    "    \n",
    "    print(type(y))\n",
    "\n",
    "    moving_average_1_hours = moving_average(df[\"Close\"], 1)\n",
    "    moving_average_2_hours = moving_average(df[\"Close\"], 2)\n",
    "    moving_average_3_hours = moving_average(df[\"Close\"], 3)\n",
    "    moving_average_12_hours = moving_average(df[\"Close\"], 12)\n",
    "    moving_average_24_hours = moving_average(df[\"Close\"], 24)\n",
    "    moving_average_48_hours = moving_average(df[\"Close\"], 48)\n",
    "    moving_average_1_week = moving_average(df[\"Close\"], 24*7)\n",
    "    moving_average_1_month = moving_average(df[\"Close\"], 24*31)\n",
    "    \n",
    "    print(len(moving_average_1_month))\n",
    "    \n",
    "    mv_1h_2h = moving_avg_diff(moving_average_1_hours, moving_average_2_hours)\n",
    "    mv_1h_3h = moving_avg_diff(moving_average_1_hours, moving_average_3_hours)\n",
    "    mv_3h_12h = moving_avg_diff(moving_average_3_hours, moving_average_12_hours)\n",
    "    mv_12h_24h = moving_avg_diff(moving_average_12_hours, moving_average_24_hours)\n",
    "    mv_24h_48h = moving_avg_diff(moving_average_24_hours, moving_average_48_hours)\n",
    "    mv_48h_1w = moving_avg_diff(moving_average_48_hours, moving_average_1_week)\n",
    "    mv_1w_1m = moving_avg_diff(moving_average_1_week, moving_average_1_month)\n",
    "    \n",
    "    print(len(mv_1w_1m))\n",
    "    \n",
    "    X = np.stack((mv_1h_2h, mv_1h_3h, mv_3h_12h, mv_12h_24h, mv_24h_48h, mv_48h_1w, mv_1w_1m), axis=1)\n",
    "    X = X[min_period:len(X)-1]\n",
    "    y = y[min_period:]\n",
    "    \n",
    "    print(len(X), len(y))\n",
    "    \n",
    "    return (X, y)"
   ]
  },
  {
   "cell_type": "code",
   "execution_count": 5,
   "metadata": {},
   "outputs": [
    {
     "name": "stdout",
     "output_type": "stream",
     "text": [
      "0         NaN\n",
      "1    0.000504\n",
      "2    0.006687\n",
      "3    0.003179\n",
      "4   -0.001887\n",
      "Name: Close, dtype: float64\n",
      "47698\n",
      "<class 'numpy.ndarray'>\n",
      "47699\n",
      "47699\n",
      "46953 46953\n"
     ]
    },
    {
     "data": {
      "text/plain": [
       "MLPClassifier(alpha=1e-05, hidden_layer_sizes=(5, 2), max_iter=10000,\n",
       "              random_state=1, solver='lbfgs')"
      ]
     },
     "execution_count": 5,
     "metadata": {},
     "output_type": "execute_result"
    }
   ],
   "source": [
    "df = pd.read_csv(\"../data/clean/bitcoin_prices.csv\")\n",
    "\n",
    "X, y = get_X_y(df, binary_output=True)\n",
    "\n",
    "X_train, X_test, y_train, y_test = train_test_split(X, y, test_size=0.33, shuffle=False)\n",
    "\n",
    "clf = MLPClassifier(solver='lbfgs', alpha=1e-5, hidden_layer_sizes=(5, 2), random_state=1, max_iter=10000)\n",
    "clf.fit(X_train, y_train)"
   ]
  },
  {
   "cell_type": "code",
   "execution_count": 6,
   "metadata": {},
   "outputs": [
    {
     "name": "stdout",
     "output_type": "stream",
     "text": [
      "Train Accuracy: 0.544249475491131\n",
      "Test Accuracy: 0.5490158115521135\n"
     ]
    }
   ],
   "source": [
    "y_train_pred = clf.predict(X_train)\n",
    "print(\"Train Accuracy:\",metrics.accuracy_score(y_train, y_train_pred))\n",
    "\n",
    "y_test_pred = clf.predict(X_test)\n",
    "print(\"Test Accuracy:\",metrics.accuracy_score(y_test, y_test_pred))"
   ]
  },
  {
   "cell_type": "code",
   "execution_count": 7,
   "metadata": {},
   "outputs": [],
   "source": [
    "with open('./pickles/svm_binary_classifier', 'wb') as f:\n",
    "#     pickle.dump(object, f)\n",
    "    pickle.dump(clf, f)"
   ]
  },
  {
   "cell_type": "code",
   "execution_count": 52,
   "metadata": {},
   "outputs": [
    {
     "name": "stdout",
     "output_type": "stream",
     "text": [
      "0         NaN\n",
      "1    0.000504\n",
      "2    0.006687\n",
      "3    0.003179\n",
      "4   -0.001887\n",
      "Name: Close, dtype: float64\n",
      "47698\n",
      "<class 'numpy.ndarray'>\n",
      "47699\n",
      "47699\n",
      "46953 46953\n"
     ]
    },
    {
     "data": {
      "text/plain": [
       "MLPClassifier(alpha=1e-07, hidden_layer_sizes=50, max_iter=10000,\n",
       "              random_state=1, solver='lbfgs')"
      ]
     },
     "execution_count": 52,
     "metadata": {},
     "output_type": "execute_result"
    }
   ],
   "source": [
    "df = pd.read_csv(\"../data/clean/bitcoin_prices.csv\")\n",
    "\n",
    "X, y = get_X_y(df, binary_output=True)\n",
    "\n",
    "X_train, X_test, y_train, y_test = train_test_split(X, y, test_size=0.33, shuffle=False)\n",
    "\n",
    "clf = MLPClassifier(solver='lbfgs', alpha=1e-7, hidden_layer_sizes=(50), random_state=1, max_iter=10000)\n",
    "clf.fit(X_train, y_train)"
   ]
  },
  {
   "cell_type": "code",
   "execution_count": 53,
   "metadata": {},
   "outputs": [
    {
     "name": "stdout",
     "output_type": "stream",
     "text": [
      "Train Accuracy: 0.5446945133193465\n",
      "Test Accuracy: 0.5359148112294289\n"
     ]
    }
   ],
   "source": [
    "y_train_pred = clf.predict(X_train)\n",
    "print(\"Train Accuracy:\",metrics.accuracy_score(y_train, y_train_pred))\n",
    "\n",
    "y_test_pred = clf.predict(X_test)\n",
    "print(\"Test Accuracy:\",metrics.accuracy_score(y_test, y_test_pred))"
   ]
  },
  {
   "cell_type": "markdown",
   "metadata": {},
   "source": [
    "## Continous Prediction Regression"
   ]
  },
  {
   "cell_type": "code",
   "execution_count": 63,
   "metadata": {},
   "outputs": [
    {
     "name": "stdout",
     "output_type": "stream",
     "text": [
      "0         NaN\n",
      "1    0.000504\n",
      "2    0.006687\n",
      "3    0.003179\n",
      "4   -0.001887\n",
      "Name: Close, dtype: float64\n",
      "47698\n",
      "<class 'numpy.ndarray'>\n",
      "47699\n",
      "47699\n",
      "46953 46953\n"
     ]
    }
   ],
   "source": [
    "df = pd.read_csv(\"../data/clean/bitcoin_prices.csv\")\n",
    "\n",
    "X, y = get_X_y(df, binary_output=False)\n",
    "\n",
    "X_train, X_test, y_train, y_test = train_test_split(X, y, test_size=0.33, shuffle=False)\n",
    "\n",
    "regr = MLPRegressor(random_state=1, solver='adam', hidden_layer_sizes=(10, 5, 2), max_iter=10000).fit(X_train, y_train)"
   ]
  },
  {
   "cell_type": "code",
   "execution_count": 64,
   "metadata": {},
   "outputs": [
    {
     "name": "stdout",
     "output_type": "stream",
     "text": [
      "Train +- Accuracy: 0.5250174836289656\n",
      "Test +- Accuracy: 0.5314617618586641\n",
      "Train R^2 -0.007986770990023206\n",
      "Test R^2 -0.03627920326857126\n",
      "[-0.00033801 -0.0043956   0.00084904 ... -0.00054595 -0.00089112\n",
      "  0.00242379]\n",
      "[0.00052716 0.00060767 0.00084726 ... 0.00014781 0.00011936 0.00011124]\n",
      "0.051127092138924024%\n",
      "0.4447695029795137%\n",
      "[-5.69697358e-05  1.37706646e-04  9.20661407e-05 ...  6.16420547e-04\n",
      "  1.75036563e-03  1.00509895e-03]\n",
      "[-0.00205599 -0.00010326  0.00024937 ... -0.01550605  0.00300411\n",
      "  0.00142161]\n"
     ]
    }
   ],
   "source": [
    "y_train_pred = regr.predict(X_train)\n",
    "print(\"Train +- Accuracy:\",metrics.accuracy_score(np.ceil(y_train), np.ceil(y_train_pred)))\n",
    "\n",
    "y_test_pred = regr.predict(X_test)\n",
    "print(\"Test +- Accuracy:\",metrics.accuracy_score(np.ceil(y_test), np.ceil(y_test_pred)))\n",
    "\n",
    "print(\"Train R^2\", regr.score(X_train, y_train))\n",
    "print(\"Test R^2\", regr.score(X_test, y_test))\n",
    "\n",
    "print(y_train)\n",
    "print(y_train_pred)\n",
    "print(str(np.mean(np.absolute(y_test_pred)) * 100) + \"%\")\n",
    "print(str(np.mean(np.absolute(y_test)) * 100) + \"%\")\n",
    "print(y_test_pred)\n",
    "print(y_test)"
   ]
  },
  {
   "cell_type": "code",
   "execution_count": null,
   "metadata": {},
   "outputs": [],
   "source": [
    "with open('./pickles/svm_regressor', 'wb') as f:\n",
    "    pickle.dump(object, f)"
   ]
  },
  {
   "cell_type": "code",
   "execution_count": 65,
   "metadata": {},
   "outputs": [],
   "source": [
    "## Best 52.2, 51.2"
   ]
  },
  {
   "cell_type": "code",
   "execution_count": 67,
   "metadata": {},
   "outputs": [
    {
     "data": {
      "text/plain": [
       "{-0.0: 7555, 1.0: 7940}"
      ]
     },
     "execution_count": 67,
     "metadata": {},
     "output_type": "execute_result"
    }
   ],
   "source": [
    "unique, counts = np.unique(np.ceil(y_test), return_counts=True)\n",
    "dict(zip(unique, counts))"
   ]
  },
  {
   "cell_type": "code",
   "execution_count": 39,
   "metadata": {},
   "outputs": [
    {
     "data": {
      "text/plain": [
       "0.5124233623749597"
      ]
     },
     "execution_count": 39,
     "metadata": {},
     "output_type": "execute_result"
    }
   ],
   "source": [
    "7940/(7555+7940)"
   ]
  },
  {
   "cell_type": "code",
   "execution_count": null,
   "metadata": {},
   "outputs": [],
   "source": []
  }
 ],
 "metadata": {
  "kernelspec": {
   "display_name": "Python 3 (ipykernel)",
   "language": "python",
   "name": "python3"
  },
  "language_info": {
   "codemirror_mode": {
    "name": "ipython",
    "version": 3
   },
   "file_extension": ".py",
   "mimetype": "text/x-python",
   "name": "python",
   "nbconvert_exporter": "python",
   "pygments_lexer": "ipython3",
   "version": "3.9.7"
  }
 },
 "nbformat": 4,
 "nbformat_minor": 4
}
