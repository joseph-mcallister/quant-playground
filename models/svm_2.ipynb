{
 "cells": [
  {
   "cell_type": "code",
   "execution_count": 46,
   "metadata": {},
   "outputs": [],
   "source": [
    "import requests\n",
    "import datetime\n",
    "import time\n",
    "import pandas as pd\n",
    "import numpy as np\n",
    "import matplotlib.pyplot as plt\n",
    "from sklearn.model_selection import train_test_split\n",
    "from sklearn import metrics\n",
    "from sklearn import svm"
   ]
  },
  {
   "cell_type": "code",
   "execution_count": 47,
   "metadata": {},
   "outputs": [],
   "source": [
    "def moving_average(x, w):\n",
    "        moving_avg = np.convolve(x, np.ones(w), 'valid') / w\n",
    "        padding = np.full_like(np.empty(w), np.nan)\n",
    "        return np.insert(moving_avg, 0, padding)\n",
    "\n",
    "def moving_avg_diff(short, long):\n",
    "        return (short - long) / long\n"
   ]
  },
  {
   "cell_type": "code",
   "execution_count": 48,
   "metadata": {},
   "outputs": [],
   "source": [
    "def get_X_y(df):\n",
    "    \n",
    "    min_period = 24*31 + 1\n",
    "    \n",
    "    percent_change = (df[\"Close\"] - df[\"Close\"].shift(1)) / df[\"Close\"].shift(1)\n",
    "    print(percent_change[:5])\n",
    "\n",
    "    y = percent_change.copy()\n",
    "    \n",
    "    print(len(y))\n",
    "    \n",
    "    ## TEMP\n",
    "    y = np.zeros(percent_change.shape)\n",
    "    y[np.where(percent_change > 0)] = 1\n",
    "\n",
    "    moving_average_1_hours = moving_average(df[\"Close\"], 1)\n",
    "    moving_average_2_hours = moving_average(df[\"Close\"], 2)\n",
    "    moving_average_3_hours = moving_average(df[\"Close\"], 3)\n",
    "    moving_average_12_hours = moving_average(df[\"Close\"], 12)\n",
    "    moving_average_24_hours = moving_average(df[\"Close\"], 24)\n",
    "    moving_average_48_hours = moving_average(df[\"Close\"], 48)\n",
    "    moving_average_1_week = moving_average(df[\"Close\"], 24*7)\n",
    "    moving_average_1_month = moving_average(df[\"Close\"], 24*31)\n",
    "    \n",
    "    print(len(moving_average_1_month))\n",
    "    \n",
    "    mv_1h_2h = moving_avg_diff(moving_average_1_hours, moving_average_2_hours)\n",
    "    mv_1h_3h = moving_avg_diff(moving_average_1_hours, moving_average_3_hours)\n",
    "    mv_3h_12h = moving_avg_diff(moving_average_3_hours, moving_average_12_hours)\n",
    "    mv_12h_24h = moving_avg_diff(moving_average_12_hours, moving_average_24_hours)\n",
    "    mv_24h_48h = moving_avg_diff(moving_average_24_hours, moving_average_48_hours)\n",
    "    mv_48h_1w = moving_avg_diff(moving_average_48_hours, moving_average_1_week)\n",
    "    mv_1w_1m = moving_avg_diff(moving_average_1_week, moving_average_1_month)\n",
    "    \n",
    "    print(len(mv_1w_1m))\n",
    "    \n",
    "    X = np.stack((mv_1h_2h, mv_1h_3h, mv_3h_12h, mv_12h_24h, mv_24h_48h, mv_48h_1w, mv_1w_1m), axis=1)\n",
    "    X = X[min_period:len(X)-1]\n",
    "    y = y[min_period:]\n",
    "    \n",
    "    print(len(X), len(y))\n",
    "    \n",
    "    return (X, y)"
   ]
  },
  {
   "cell_type": "code",
   "execution_count": 49,
   "metadata": {},
   "outputs": [
    {
     "name": "stdout",
     "output_type": "stream",
     "text": [
      "47698\n",
      "0         NaN\n",
      "1    0.000504\n",
      "2    0.006687\n",
      "3    0.003179\n",
      "4   -0.001887\n",
      "Name: Close, dtype: float64\n",
      "47698\n",
      "47699\n",
      "47699\n",
      "46953 46953\n",
      "[[-1.05616696e-04  2.67662182e-04  7.08656390e-03 ... -6.23416896e-04\n",
      "  -7.88400236e-02 -7.69663603e-02]\n",
      " [-1.69033130e-04 -2.95770482e-04  7.03496206e-03 ...  2.32957650e-03\n",
      "  -7.93858293e-02 -7.73919751e-02]\n",
      " [-2.20264317e-03 -3.04723210e-03  5.15452953e-03 ...  2.58309768e-03\n",
      "  -7.76370680e-02 -7.78228886e-02]\n",
      " ...\n",
      " [ 3.73658639e-03  5.40381903e-03  1.25110821e-02 ...  2.79762019e-02\n",
      "   8.48901523e-02  1.79359449e-01]\n",
      " [-7.81360296e-03 -7.91614320e-03  1.08402128e-02 ...  2.65053926e-02\n",
      "   8.58565323e-02  1.79456674e-01]\n",
      " [ 1.49980409e-03 -3.22717371e-03  8.60571264e-03 ...  2.47845570e-02\n",
      "   8.69585770e-02  1.79584205e-01]]\n"
     ]
    }
   ],
   "source": [
    "df = pd.read_csv(\"../data/clean/bitcoin_prices.csv\")\n",
    "\n",
    "X, y = get_X_y(df)"
   ]
  },
  {
   "cell_type": "code",
   "execution_count": 50,
   "metadata": {},
   "outputs": [
    {
     "data": {
      "text/plain": [
       "SVC()"
      ]
     },
     "execution_count": 50,
     "metadata": {},
     "output_type": "execute_result"
    }
   ],
   "source": [
    "X_train, X_test, y_train, y_test = train_test_split(X, y, test_size=0.33, shuffle=False)\n",
    "\n",
    "\n",
    "clf = svm.SVC(kernel='rbf')\n",
    "clf.fit(X_train, y_train)"
   ]
  },
  {
   "cell_type": "code",
   "execution_count": 51,
   "metadata": {},
   "outputs": [
    {
     "name": "stdout",
     "output_type": "stream",
     "text": [
      "Train Accuracy: 0.5379871574798144\n",
      "Test Accuracy: 0.5166828009035173\n"
     ]
    }
   ],
   "source": [
    "y_train_pred = clf.predict(X_train)\n",
    "print(\"Train Accuracy:\",metrics.accuracy_score(y_train, y_train_pred))\n",
    "\n",
    "y_test_pred = clf.predict(X_test)\n",
    "print(\"Test Accuracy:\",metrics.accuracy_score(y_test, y_test_pred))"
   ]
  }
 ],
 "metadata": {
  "kernelspec": {
   "display_name": "quant-trading",
   "language": "python",
   "name": "quant-trading"
  },
  "language_info": {
   "codemirror_mode": {
    "name": "ipython",
    "version": 3
   },
   "file_extension": ".py",
   "mimetype": "text/x-python",
   "name": "python",
   "nbconvert_exporter": "python",
   "pygments_lexer": "ipython3",
   "version": "3.9.1"
  }
 },
 "nbformat": 4,
 "nbformat_minor": 4
}
