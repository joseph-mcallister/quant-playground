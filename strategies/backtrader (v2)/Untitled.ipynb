{
 "cells": [
  {
   "cell_type": "code",
   "execution_count": 2,
   "metadata": {},
   "outputs": [
    {
     "ename": "AttributeError",
     "evalue": "module 'backtrader.feeds' has no attribute 'CCXT'",
     "output_type": "error",
     "traceback": [
      "\u001b[0;31m---------------------------------------------------------------------------\u001b[0m",
      "\u001b[0;31mAttributeError\u001b[0m                            Traceback (most recent call last)",
      "\u001b[0;32m<ipython-input-2-c0057fbc09b0>\u001b[0m in \u001b[0;36m<module>\u001b[0;34m\u001b[0m\n\u001b[1;32m     36\u001b[0m \u001b[0;34m\u001b[0m\u001b[0m\n\u001b[1;32m     37\u001b[0m \u001b[0;32mif\u001b[0m \u001b[0m__name__\u001b[0m \u001b[0;34m==\u001b[0m \u001b[0;34m'__main__'\u001b[0m\u001b[0;34m:\u001b[0m\u001b[0;34m\u001b[0m\u001b[0;34m\u001b[0m\u001b[0m\n\u001b[0;32m---> 38\u001b[0;31m     \u001b[0msys\u001b[0m\u001b[0;34m.\u001b[0m\u001b[0mexit\u001b[0m\u001b[0;34m(\u001b[0m\u001b[0mrunstrategy\u001b[0m\u001b[0;34m(\u001b[0m\u001b[0msys\u001b[0m\u001b[0;34m.\u001b[0m\u001b[0margv\u001b[0m\u001b[0;34m)\u001b[0m\u001b[0;34m)\u001b[0m\u001b[0;34m\u001b[0m\u001b[0;34m\u001b[0m\u001b[0m\n\u001b[0m",
      "\u001b[0;32m<ipython-input-2-c0057fbc09b0>\u001b[0m in \u001b[0;36mrunstrategy\u001b[0;34m(argv)\u001b[0m\n\u001b[1;32m     25\u001b[0m     \u001b[0;31m# Create data feeds\u001b[0m\u001b[0;34m\u001b[0m\u001b[0;34m\u001b[0m\u001b[0;34m\u001b[0m\u001b[0m\n\u001b[1;32m     26\u001b[0m     \u001b[0mhist_start_date\u001b[0m \u001b[0;34m=\u001b[0m \u001b[0mdatetime\u001b[0m\u001b[0;34m.\u001b[0m\u001b[0mutcnow\u001b[0m\u001b[0;34m(\u001b[0m\u001b[0;34m)\u001b[0m \u001b[0;34m-\u001b[0m \u001b[0mtimedelta\u001b[0m\u001b[0;34m(\u001b[0m\u001b[0mminutes\u001b[0m\u001b[0;34m=\u001b[0m\u001b[0;36m30\u001b[0m\u001b[0;34m)\u001b[0m\u001b[0;34m\u001b[0m\u001b[0;34m\u001b[0m\u001b[0m\n\u001b[0;32m---> 27\u001b[0;31m     data_min = bt.feeds.CCXT(exchange=\"bitmex\", symbol=\"BTC/USD\", name=\"btc_usd_min\",\n\u001b[0m\u001b[1;32m     28\u001b[0m                              timeframe=bt.TimeFrame.Minutes, fromdate=hist_start_date) #, historical=True)\n\u001b[1;32m     29\u001b[0m     \u001b[0mcerebro\u001b[0m\u001b[0;34m.\u001b[0m\u001b[0madddata\u001b[0m\u001b[0;34m(\u001b[0m\u001b[0mdata_min\u001b[0m\u001b[0;34m)\u001b[0m\u001b[0;34m\u001b[0m\u001b[0;34m\u001b[0m\u001b[0m\n",
      "\u001b[0;31mAttributeError\u001b[0m: module 'backtrader.feeds' has no attribute 'CCXT'"
     ]
    }
   ],
   "source": [
    "from __future__ import (absolute_import, division, print_function,\n",
    "                        unicode_literals)\n",
    "\n",
    "import sys\n",
    "import time\n",
    "\n",
    "from datetime import datetime, timedelta\n",
    "\n",
    "import backtrader as bt\n",
    "\n",
    "class TestStrategy(bt.Strategy):\n",
    "    def next(self):\n",
    "        for data in self.datas:\n",
    "            print('*' * 5, 'NEXT:', bt.num2date(data.datetime[0]), data._name, data.open[0], data.high[0],\n",
    "                  data.low[0], data.close[0], data.volume[0],\n",
    "                  bt.TimeFrame.getname(data._timeframe), len(data))\n",
    "\n",
    "    def notify_order(self, order):\n",
    "        print('*' * 5, \"NOTIFY ORDER\", order)\n",
    "\n",
    "def runstrategy(argv):\n",
    "    # Create a cerebro\n",
    "    cerebro = bt.Cerebro()\n",
    "\n",
    "    # Create data feeds\n",
    "    hist_start_date = datetime.utcnow() - timedelta(minutes=30)\n",
    "    data_min = bt.feeds.CCXT(exchange=\"bitmex\", symbol=\"BTC/USD\", name=\"btc_usd_min\",\n",
    "                             timeframe=bt.TimeFrame.Minutes, fromdate=hist_start_date) #, historical=True)\n",
    "    cerebro.adddata(data_min)\n",
    "\n",
    "    # Add the strategy\n",
    "    cerebro.addstrategy(TestStrategy)\n",
    "\n",
    "    # Run the strategy\n",
    "    cerebro.run()\n",
    "\n",
    "if __name__ == '__main__':\n",
    "    sys.exit(runstrategy(sys.argv))\n"
   ]
  },
  {
   "cell_type": "code",
   "execution_count": 7,
   "metadata": {},
   "outputs": [
    {
     "data": {
      "text/plain": [
       "<module 'backtrader.feeds' from '/home/jmcallister/.local/share/virtualenvs/quant-trading-rDfol2bw/lib/python3.6/site-packages/backtrader/feeds/__init__.py'>"
      ]
     },
     "execution_count": 7,
     "metadata": {},
     "output_type": "execute_result"
    }
   ],
   "source": [
    "bt.feeds"
   ]
  },
  {
   "cell_type": "code",
   "execution_count": null,
   "metadata": {},
   "outputs": [],
   "source": []
  }
 ],
 "metadata": {
  "kernelspec": {
   "display_name": "quant-trading",
   "language": "python",
   "name": "quant-trading"
  },
  "language_info": {
   "codemirror_mode": {
    "name": "ipython",
    "version": 3
   },
   "file_extension": ".py",
   "mimetype": "text/x-python",
   "name": "python",
   "nbconvert_exporter": "python",
   "pygments_lexer": "ipython3",
   "version": "3.6.9"
  }
 },
 "nbformat": 4,
 "nbformat_minor": 4
}
