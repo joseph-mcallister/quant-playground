{
 "cells": [
  {
   "cell_type": "code",
   "execution_count": 22,
   "metadata": {},
   "outputs": [],
   "source": [
    "import requests\n",
    "import datetime\n",
    "import time\n",
    "import pandas as pd\n",
    "import numpy as np\n",
    "import matplotlib.pyplot as plt\n",
    "from sklearn import svm\n",
    "from sklearn.model_selection import train_test_split\n",
    "from sklearn import metrics"
   ]
  },
  {
   "cell_type": "code",
   "execution_count": 32,
   "metadata": {},
   "outputs": [
    {
     "data": {
      "text/plain": [
       "SVC()"
      ]
     },
     "execution_count": 32,
     "metadata": {},
     "output_type": "execute_result"
    }
   ],
   "source": [
    "df = pd.read_csv(\"../data/clean/bitcoin_prices.csv\")\n",
    "\n",
    "percent_change = (df[\"Close\"] - df[\"Close\"].shift(1)) / df[\"Close\"]\n",
    "# plt.plot(np.asarray(df[\"Time\"], dtype='datetime64[s]'), percent_change)\n",
    "\n",
    "y = np.zeros(percent_change.shape)\n",
    "y[np.where(percent_change > 0)] = 1\n",
    "\n",
    "def moving_average(x, w):\n",
    "    moving_avg = np.convolve(x, np.ones(w), 'valid') / w\n",
    "    padding = np.full_like(np.empty(w), np.nan)\n",
    "    return np.insert(moving_avg, 0, padding)\n",
    "\n",
    "min_period = 24*7\n",
    "\n",
    "moving_average_3_hours = moving_average(df[\"Close\"], 3)\n",
    "moving_average_12_hours = moving_average(df[\"Close\"], 12)\n",
    "moving_average_24_hours = moving_average(df[\"Close\"], 24)\n",
    "moving_average_48_hours = moving_average(df[\"Close\"], 48)\n",
    "moving_average_1_week = moving_average(df[\"Close\"], 24*7 - 1)\n",
    "\n",
    "mv_1 = (moving_average_3_hours - moving_average_12_hours) / moving_average_3_hours\n",
    "mv_2 = (moving_average_12_hours - moving_average_24_hours) / moving_average_12_hours\n",
    "mv_3 = (moving_average_12_hours - moving_average_24_hours) / moving_average_12_hours\n",
    "mv_4 = (moving_average_12_hours - moving_average_48_hours) / moving_average_12_hours\n",
    "mv_5 = (moving_average_12_hours - moving_average_1_week) / moving_average_12_hours\n",
    "\n",
    "# X = np.stack((moving_average_3_hours, moving_average_12_hours, moving_average_24_hours, moving_average_48_hours, moving_average_1_week), axis=1)\n",
    "X = np.stack((mv_1, mv_2, mv_3, mv_4, mv_5), axis=1)\n",
    "X = X[min_period + 1:]\n",
    "y = y[min_period:]\n",
    "\n",
    "X_train, X_test, y_train, y_test = train_test_split(X, y, test_size=0.33, shuffle=False)\n",
    "\n",
    "clf = svm.SVC(kernel='rbf')\n",
    "clf.fit(X_train, y_train)"
   ]
  },
  {
   "cell_type": "code",
   "execution_count": 33,
   "metadata": {},
   "outputs": [
    {
     "name": "stdout",
     "output_type": "stream",
     "text": [
      "Train Accuracy: 0.5308839692259382\n",
      "Test Accuracy: 0.5140580172138987\n"
     ]
    }
   ],
   "source": [
    "y_train_pred = clf.predict(X_train)\n",
    "print(\"Train Accuracy:\",metrics.accuracy_score(y_train, y_train_pred))\n",
    "\n",
    "y_test_pred = clf.predict(X_test)\n",
    "print(\"Test Accuracy:\",metrics.accuracy_score(y_test, y_test_pred))"
   ]
  },
  {
   "cell_type": "code",
   "execution_count": null,
   "metadata": {},
   "outputs": [],
   "source": []
  }
 ],
 "metadata": {
  "kernelspec": {
   "display_name": "quant-trading",
   "language": "python",
   "name": "quant-trading"
  },
  "language_info": {
   "codemirror_mode": {
    "name": "ipython",
    "version": 3
   },
   "file_extension": ".py",
   "mimetype": "text/x-python",
   "name": "python",
   "nbconvert_exporter": "python",
   "pygments_lexer": "ipython3",
   "version": "3.6.9"
  }
 },
 "nbformat": 4,
 "nbformat_minor": 4
}
