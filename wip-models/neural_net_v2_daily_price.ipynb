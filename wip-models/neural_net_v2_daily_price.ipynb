{
 "cells": [
  {
   "cell_type": "code",
   "execution_count": 3,
   "metadata": {},
   "outputs": [],
   "source": [
    "import requests\n",
    "import datetime\n",
    "import time\n",
    "import pandas as pd\n",
    "import numpy as np\n",
    "import matplotlib.pyplot as plt\n",
    "from sklearn.model_selection import train_test_split\n",
    "from sklearn import metrics\n",
    "from sklearn.neural_network import MLPClassifier, MLPRegressor\n",
    "import pickle"
   ]
  },
  {
   "cell_type": "code",
   "execution_count": 4,
   "metadata": {},
   "outputs": [],
   "source": [
    "def moving_average(x, w):\n",
    "        moving_avg = np.convolve(x, np.ones(w), 'valid') / w\n",
    "        padding = np.full_like(np.empty(w), np.nan)\n",
    "        return np.insert(moving_avg, 0, padding)\n",
    "\n",
    "def moving_avg_diff(short, long):\n",
    "        return (short - long) / long\n"
   ]
  },
  {
   "cell_type": "markdown",
   "metadata": {},
   "source": [
    "## Binary Directional Prediction"
   ]
  },
  {
   "cell_type": "code",
   "execution_count": 5,
   "metadata": {},
   "outputs": [],
   "source": [
    "def get_X_y(df, binary_output=True):\n",
    "    \n",
    "    min_period = 30\n",
    "    \n",
    "    percent_change = (df[\"Close\"] - df[\"Close\"].shift(1)) / df[\"Close\"].shift(1)\n",
    "    print(percent_change[:5])\n",
    "\n",
    "    y = percent_change.copy()\n",
    "    \n",
    "    print(len(y))\n",
    "    \n",
    "    ## TEMP\n",
    "    if binary_output == True:\n",
    "        y = np.zeros(percent_change.shape)\n",
    "        y[np.where(percent_change > 0)] = 1\n",
    "    else:\n",
    "        y = y.to_numpy()\n",
    "    \n",
    "    moving_average_1_day = moving_average(df[\"Close\"], 1)\n",
    "    moving_average_2_day = moving_average(df[\"Close\"], 2)\n",
    "    moving_average_3_day = moving_average(df[\"Close\"], 3)\n",
    "    # moving_average_4_day = moving_average(df[\"Close\"], 4)\n",
    "    # moving_average_5_day = moving_average(df[\"Close\"], 5)\n",
    "    # moving_average_6_day = moving_average(df[\"Close\"], 6)\n",
    "    moving_average_7_day = moving_average(df[\"Close\"], 7)\n",
    "    moving_average_14_day = moving_average(df[\"Close\"], 14)\n",
    "    moving_average_30_day = moving_average(df[\"Close\"], 30)\n",
    "    \n",
    "    mv_1d_2d = moving_avg_diff(moving_average_1_day, moving_average_2_day)\n",
    "    mv_1d_3d = moving_avg_diff(moving_average_1_day, moving_average_3_day)\n",
    "    # mv_2d_4d = moving_avg_diff(moving_average_1_day, moving_average_3_day)\n",
    "    mv_3d_7d = moving_avg_diff(moving_average_3_day, moving_average_7_day)\n",
    "    mv_7d_14d = moving_avg_diff(moving_average_7_day, moving_average_14_day)\n",
    "    mv_7d_30d = moving_avg_diff(moving_average_7_day, moving_average_30_day)\n",
    "        \n",
    "    X = np.stack((mv_1d_2d, mv_1d_3d, mv_3d_7d, mv_7d_14d, mv_7d_30d), axis=1)\n",
    "    X = X[min_period:len(X)-1]\n",
    "    y = y[min_period:]\n",
    "    \n",
    "    print(len(X), len(y))\n",
    "    \n",
    "    return (X, y)"
   ]
  },
  {
   "cell_type": "code",
   "execution_count": 6,
   "metadata": {},
   "outputs": [
    {
     "name": "stdout",
     "output_type": "stream",
     "text": [
      "0          NaN\n",
      "24    0.006691\n",
      "48   -0.009862\n",
      "72   -0.001444\n",
      "96    0.045501\n",
      "Name: Close, dtype: float64\n",
      "1988\n",
      "1958 1958\n",
      "Unnamed: 0    3.146400e+04\n",
      "Time          1.550696e+09\n",
      "Low           3.914130e+03\n",
      "High          3.939170e+03\n",
      "Open          3.931390e+03\n",
      "Close         3.914140e+03\n",
      "Volume        5.787809e+02\n",
      "Name: 31464, dtype: float64\n"
     ]
    },
    {
     "data": {
      "text/plain": [
       "MLPClassifier(alpha=1e-05, hidden_layer_sizes=(5, 2), max_iter=10000,\n",
       "              random_state=1, solver='lbfgs')"
      ]
     },
     "execution_count": 6,
     "metadata": {},
     "output_type": "execute_result"
    }
   ],
   "source": [
    "df = pd.read_csv(\"../data/clean/bitcoin_prices.csv\")\n",
    "df = df.iloc[::24, :]\n",
    "\n",
    "X, y = get_X_y(df, binary_output=True)\n",
    "\n",
    "X_train, X_test, y_train, y_test = train_test_split(X, y, test_size=0.33, shuffle=False)\n",
    "print(df.iloc[len(X_train)])\n",
    "\n",
    "clf = MLPClassifier(solver='lbfgs', alpha=1e-5, hidden_layer_sizes=(5, 2), random_state=1, max_iter=10000)\n",
    "clf.fit(X_train, y_train)"
   ]
  },
  {
   "cell_type": "code",
   "execution_count": 7,
   "metadata": {},
   "outputs": [
    {
     "name": "stdout",
     "output_type": "stream",
     "text": [
      "Train Accuracy: 0.585812356979405\n",
      "Test Accuracy: 0.5687789799072643\n"
     ]
    }
   ],
   "source": [
    "y_train_pred = clf.predict(X_train)\n",
    "print(\"Train Accuracy:\",metrics.accuracy_score(y_train, y_train_pred))\n",
    "\n",
    "y_test_pred = clf.predict(X_test)\n",
    "print(\"Test Accuracy:\",metrics.accuracy_score(y_test, y_test_pred))"
   ]
  },
  {
   "cell_type": "code",
   "execution_count": 8,
   "metadata": {},
   "outputs": [],
   "source": [
    "with open('./pickles/neural_net_v2_daily_price', 'wb') as f:\n",
    "    pickle.dump(clf, f)"
   ]
  },
  {
   "cell_type": "code",
   "execution_count": 11,
   "metadata": {},
   "outputs": [
    {
     "name": "stdout",
     "output_type": "stream",
     "text": [
      "0          NaN\n",
      "24    0.006691\n",
      "48   -0.009862\n",
      "72   -0.001444\n",
      "96    0.045501\n",
      "Name: Close, dtype: float64\n",
      "1988\n",
      "1958 1958\n"
     ]
    },
    {
     "data": {
      "text/plain": [
       "MLPClassifier(alpha=1e-07, hidden_layer_sizes=50, max_iter=10000,\n",
       "              random_state=1, solver='lbfgs')"
      ]
     },
     "execution_count": 11,
     "metadata": {},
     "output_type": "execute_result"
    }
   ],
   "source": [
    "df = pd.read_csv(\"../data/clean/bitcoin_prices.csv\")\n",
    "df = df.iloc[::24, :]\n",
    "\n",
    "X, y = get_X_y(df, binary_output=True)\n",
    "\n",
    "X_train, X_test, y_train, y_test = train_test_split(X, y, test_size=0.33, shuffle=False)\n",
    "\n",
    "clf = MLPClassifier(solver='lbfgs', alpha=1e-7, hidden_layer_sizes=(50), random_state=1, max_iter=10000)\n",
    "clf.fit(X_train, y_train)"
   ]
  },
  {
   "cell_type": "code",
   "execution_count": 10,
   "metadata": {},
   "outputs": [
    {
     "name": "stdout",
     "output_type": "stream",
     "text": [
      "Train Accuracy: 0.6071700991609459\n",
      "Test Accuracy: 0.527047913446677\n"
     ]
    }
   ],
   "source": [
    "y_train_pred = clf.predict(X_train)\n",
    "print(\"Train Accuracy:\",metrics.accuracy_score(y_train, y_train_pred))\n",
    "\n",
    "y_test_pred = clf.predict(X_test)\n",
    "print(\"Test Accuracy:\",metrics.accuracy_score(y_test, y_test_pred))"
   ]
  },
  {
   "cell_type": "code",
   "execution_count": null,
   "metadata": {},
   "outputs": [],
   "source": []
  }
 ],
 "metadata": {
  "kernelspec": {
   "display_name": "Python 3 (ipykernel)",
   "language": "python",
   "name": "python3"
  },
  "language_info": {
   "codemirror_mode": {
    "name": "ipython",
    "version": 3
   },
   "file_extension": ".py",
   "mimetype": "text/x-python",
   "name": "python",
   "nbconvert_exporter": "python",
   "pygments_lexer": "ipython3",
   "version": "3.8.8"
  }
 },
 "nbformat": 4,
 "nbformat_minor": 4
}
