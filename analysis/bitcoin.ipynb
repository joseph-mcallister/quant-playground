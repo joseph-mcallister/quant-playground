{
 "cells": [
  {
   "cell_type": "code",
   "execution_count": 1,
   "metadata": {},
   "outputs": [],
   "source": [
    "import requests\n",
    "import datetime\n",
    "import time\n",
    "import pandas as pd\n",
    "import numpy as np\n",
    "import matplotlib.pyplot as plt"
   ]
  },
  {
   "cell_type": "code",
   "execution_count": 2,
   "metadata": {},
   "outputs": [],
   "source": [
    "df = pd.read_csv(\"../data/clean/bitcoin_prices.csv\")\n",
    "# [ time, low, high, open, close, volume ],"
   ]
  },
  {
   "cell_type": "code",
   "execution_count": 7,
   "metadata": {},
   "outputs": [
    {
     "name": "stdout",
     "output_type": "stream",
     "text": [
      "1987.4166666666667 days with data\n",
      "55.952051491708076% average hourly gain\n",
      "127.2047943403362% average yearly gain\n",
      "52.18038492179966% percentage of days with positive gain\n"
     ]
    }
   ],
   "source": [
    "total_days = df.shape[0] / 24\n",
    "print(\"{} days with data\".format(total_days))\n",
    "\n",
    "hourly_change = (df[\"Close\"] - df[\"Close\"].shift(1))[1:]\n",
    "\n",
    "hourly_change_as_percentage = (df[\"Close\"] - df[\"Close\"].shift(1)) / df[\"Close\"].shift(1)[1:]\n",
    "print(\"{}% average hourly gain\".format(np.mean(hourly_change) * 100))\n",
    "\n",
    "yearly_df = df.iloc[::8760]\n",
    "avg_yearly_gain = np.mean( ( (yearly_df[\"Close\"] - yearly_df[\"Close\"].shift(1)) / yearly_df[\"Close\"].shift(1))[1:])\n",
    "print(\"{}% average yearly gain\".format(avg_yearly_gain * 100))\n",
    "\n",
    "percent_hourly_increase = hourly_change[hourly_change >= 0].shape[0] / df.shape[0]\n",
    "print(\"{}% percentage of days with positive gain\".format(percent_hourly_increase * 100))"
   ]
  },
  {
   "cell_type": "code",
   "execution_count": 4,
   "metadata": {},
   "outputs": [
    {
     "data": {
      "text/plain": [
       "[<matplotlib.lines.Line2D at 0x7f4acacd2748>]"
      ]
     },
     "execution_count": 4,
     "metadata": {},
     "output_type": "execute_result"
    },
    {
     "data": {
      "image/png": "[encoded data removed]",
      "text/plain": [
       "<Figure size 432x288 with 1 Axes>"
      ]
     },
     "metadata": {
      "needs_background": "light"
     },
     "output_type": "display_data"
    }
   ],
   "source": [
    "plt.plot(np.asarray(df[\"Time\"], dtype='datetime64[s]'), df[\"Close\"])"
   ]
  },
  {
   "cell_type": "code",
   "execution_count": 5,
   "metadata": {},
   "outputs": [
    {
     "data": {
      "text/plain": [
       "[<matplotlib.lines.Line2D at 0x7f4aca6fda58>]"
      ]
     },
     "execution_count": 5,
     "metadata": {},
     "output_type": "execute_result"
    },
    {
     "data": {
      "image/png": "[encoded data removed]",
      "text/plain": [
       "<Figure size 432x288 with 1 Axes>"
      ]
     },
     "metadata": {
      "needs_background": "light"
     },
     "output_type": "display_data"
    }
   ],
   "source": [
    "plt.plot(np.asarray(df[\"Time\"][1:], dtype='datetime64[s]'), hourly_change)"
   ]
  },
  {
   "cell_type": "code",
   "execution_count": 8,
   "metadata": {},
   "outputs": [
    {
     "ename": "NameError",
     "evalue": "name 'percent_hourly_change' is not defined",
     "output_type": "error",
     "traceback": [
      "\u001b[0;31m---------------------------------------------------------------------------\u001b[0m",
      "\u001b[0;31mNameError\u001b[0m                                 Traceback (most recent call last)",
      "\u001b[0;32m<ipython-input-8-4c2222c41185>\u001b[0m in \u001b[0;36m<module>\u001b[0;34m\u001b[0m\n\u001b[0;32m----> 1\u001b[0;31m \u001b[0mplt\u001b[0m\u001b[0;34m.\u001b[0m\u001b[0mplot\u001b[0m\u001b[0;34m(\u001b[0m\u001b[0mnp\u001b[0m\u001b[0;34m.\u001b[0m\u001b[0masarray\u001b[0m\u001b[0;34m(\u001b[0m\u001b[0mdf\u001b[0m\u001b[0;34m[\u001b[0m\u001b[0;34m\"Time\"\u001b[0m\u001b[0;34m]\u001b[0m\u001b[0;34m[\u001b[0m\u001b[0;36m1\u001b[0m\u001b[0;34m:\u001b[0m\u001b[0;34m]\u001b[0m\u001b[0;34m,\u001b[0m \u001b[0mdtype\u001b[0m\u001b[0;34m=\u001b[0m\u001b[0;34m'datetime64[s]'\u001b[0m\u001b[0;34m)\u001b[0m\u001b[0;34m,\u001b[0m \u001b[0mpercent_hourly_change\u001b[0m\u001b[0;34m)\u001b[0m\u001b[0;34m\u001b[0m\u001b[0;34m\u001b[0m\u001b[0m\n\u001b[0m",
      "\u001b[0;31mNameError\u001b[0m: name 'percent_hourly_change' is not defined"
     ]
    }
   ],
   "source": [
    "plt.plot(np.asarray(df[\"Time\"][1:], dtype='datetime64[s]'), percent_hourly_change)"
   ]
  },
  {
   "cell_type": "code",
   "execution_count": 6,
   "metadata": {},
   "outputs": [
    {
     "name": "stdout",
     "output_type": "stream",
     "text": [
      "Unnamed: 0    2.126200e+04\n",
      "Time          1.513969e+09\n",
      "Low           1.300000e+04\n",
      "High          1.359900e+04\n",
      "Open          1.348900e+04\n",
      "Close         1.341000e+04\n",
      "Volume        3.154317e+03\n",
      "Name: 21262, dtype: float64 Unnamed: 0    2.126300e+04\n",
      "Time          1.513973e+09\n",
      "Low           1.330036e+04\n",
      "High          1.482602e+04\n",
      "Open          1.341000e+04\n",
      "Close         1.476588e+04\n",
      "Volume        5.573661e+03\n",
      "Name: 21263, dtype: float64\n",
      "2017-12-22 13:00:00\n",
      "2017-12-22 14:00:00\n"
     ]
    }
   ],
   "source": [
    "max_change = df.iloc[np.argmax(hourly_change)]\n",
    "print(df.iloc[np.argmax(hourly_change)], df.iloc[np.argmax(hourly_change) + 1])\n",
    "print(datetime.datetime.fromtimestamp(df.iloc[np.argmax(hourly_change)][\"Time\"]))\n",
    "print(datetime.datetime.fromtimestamp(df.iloc[np.argmax(hourly_change) + 1][\"Time\"]))"
   ]
  },
  {
   "cell_type": "code",
   "execution_count": 154,
   "metadata": {},
   "outputs": [
    {
     "data": {
      "text/plain": [
       "0   NaN\n",
       "Name: Time, dtype: float64"
      ]
     },
     "execution_count": 154,
     "metadata": {},
     "output_type": "execute_result"
    }
   ],
   "source": [
    "shifts = df[\"Time\"] - df[\"Time\"].shift(1)\n",
    "shifts[shifts != 3600].index\n",
    "shifts[shifts != 3600]"
   ]
  },
  {
   "cell_type": "code",
   "execution_count": null,
   "metadata": {},
   "outputs": [],
   "source": []
  }
 ],
 "metadata": {
  "kernelspec": {
   "display_name": "quant-trading",
   "language": "python",
   "name": "quant-trading"
  },
  "language_info": {
   "codemirror_mode": {
    "name": "ipython",
    "version": 3
   },
   "file_extension": ".py",
   "mimetype": "text/x-python",
   "name": "python",
   "nbconvert_exporter": "python",
   "pygments_lexer": "ipython3",
   "version": "3.6.9"
  }
 },
 "nbformat": 4,
 "nbformat_minor": 4
}
