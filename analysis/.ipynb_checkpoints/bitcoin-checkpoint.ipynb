{
 "cells": [
  {
   "cell_type": "code",
   "execution_count": 1,
   "metadata": {},
   "outputs": [],
   "source": [
    "import requests\n",
    "import datetime\n",
    "import time\n",
    "import pandas as pd\n",
    "import numpy as np\n",
    "import matplotlib.pyplot as plt"
   ]
  },
  {
   "cell_type": "code",
   "execution_count": 29,
   "metadata": {},
   "outputs": [],
   "source": [
    "df = pd.read_csv(\"../data/bitcoin_prices_v3.csv\")\n",
    "# [ time, low, high, open, close, volume ],"
   ]
  },
  {
   "cell_type": "code",
   "execution_count": 37,
   "metadata": {},
   "outputs": [
    {
     "name": "stdout",
     "output_type": "stream",
     "text": [
      "1985.6666666666667 days with data\n",
      "56.0013639702025% average hourly gain\n",
      "126.7115347032126% average yearly gain\n",
      "52.20119187510491% percentage of days with positive gain\n"
     ]
    }
   ],
   "source": [
    "total_days = df.shape[0] / 24\n",
    "print(\"{} days with data\".format(total_days))\n",
    "\n",
    "hourly_change = (df[\"close\"] - df[\"close\"].shift(1))[1:]\n",
    "\n",
    "hourly_change_as_percentage = (df[\"close\"] - df[\"close\"].shift(1)) / df[\"close\"].shift(1)[1:]\n",
    "print(\"{}% average hourly gain\".format(np.mean(hourly_change) * 100))\n",
    "\n",
    "yearly_df = df.iloc[::8760]\n",
    "avg_yearly_gain = np.mean( ( (yearly_df[\"close\"] - yearly_df[\"close\"].shift(1)) / yearly_df[\"close\"].shift(1))[1:])\n",
    "print(\"{}% average yearly gain\".format(avg_yearly_gain * 100))\n",
    "\n",
    "percent_hourly_increase = hourly_change[hourly_change >= 0].shape[0] / df.shape[0]\n",
    "print(\"{}% percentage of days with positive gain\".format(percent_hourly_increase * 100))"
   ]
  },
  {
   "cell_type": "code",
   "execution_count": 31,
   "metadata": {},
   "outputs": [
    {
     "data": {
      "text/plain": [
       "[<matplotlib.lines.Line2D at 0x7f9c59ec9160>]"
      ]
     },
     "execution_count": 31,
     "metadata": {},
     "output_type": "execute_result"
    },
    {
     "data": {
      "image/png": "[encoded data removed]",
      "text/plain": [
       "<Figure size 432x288 with 1 Axes>"
      ]
     },
     "metadata": {
      "needs_background": "light"
     },
     "output_type": "display_data"
    }
   ],
   "source": [
    "plt.plot(np.asarray(df[\"time\"], dtype='datetime64[s]'), df[\"close\"])"
   ]
  },
  {
   "cell_type": "code",
   "execution_count": 52,
   "metadata": {},
   "outputs": [
    {
     "data": {
      "text/plain": [
       "[<matplotlib.lines.Line2D at 0x7f9c5b229f70>]"
      ]
     },
     "execution_count": 52,
     "metadata": {},
     "output_type": "execute_result"
    },
    {
     "data": {
      "image/png": "[encoded data removed]",
      "text/plain": [
       "<Figure size 432x288 with 1 Axes>"
      ]
     },
     "metadata": {
      "needs_background": "light"
     },
     "output_type": "display_data"
    }
   ],
   "source": [
    "plt.plot(np.asarray(df[\"time\"][1:], dtype='datetime64[s]'), hourly_change)"
   ]
  },
  {
   "cell_type": "code",
   "execution_count": 33,
   "metadata": {},
   "outputs": [
    {
     "name": "stdout",
     "output_type": "stream",
     "text": [
      "Unnamed: 0    1.630000e+02\n",
      "time          1.513969e+09\n",
      "low           1.300000e+04\n",
      "high          1.359900e+04\n",
      "open          1.348900e+04\n",
      "close         1.341000e+04\n",
      "volume        3.154317e+03\n",
      "Name: 21248, dtype: float64 Unnamed: 0    1.640000e+02\n",
      "time          1.513973e+09\n",
      "low           1.330036e+04\n",
      "high          1.482602e+04\n",
      "open          1.341000e+04\n",
      "close         1.476588e+04\n",
      "volume        5.573661e+03\n",
      "Name: 21249, dtype: float64\n",
      "2017-12-22 13:00:00\n",
      "2017-12-22 14:00:00\n"
     ]
    }
   ],
   "source": [
    "max_change = df.iloc[np.argmax(hourly_change)]\n",
    "print(df.iloc[np.argmax(hourly_change)], df.iloc[np.argmax(hourly_change) + 1])\n",
    "print(datetime.datetime.fromtimestamp(df.iloc[np.argmax(hourly_change)][\"time\"]))\n",
    "print(datetime.datetime.fromtimestamp(df.iloc[np.argmax(hourly_change) + 1][\"time\"]))"
   ]
  },
  {
   "cell_type": "code",
   "execution_count": 58,
   "metadata": {},
   "outputs": [
    {
     "data": {
      "text/plain": [
       "Int64Index([    0, 10230, 14133, 15232, 19130, 20734, 20996, 22218, 24566,\n",
       "            25044, 25163, 26768, 30066, 32620, 34301, 37497, 39677, 44914,\n",
       "            46014],\n",
       "           dtype='int64')"
      ]
     },
     "execution_count": 58,
     "metadata": {},
     "output_type": "execute_result"
    }
   ],
   "source": [
    "shifts = df[\"time\"] - df[\"time\"].shift(1)\n",
    "shifts[shifts != 3600].index\n",
    "\n"
   ]
  },
  {
   "cell_type": "code",
   "execution_count": null,
   "metadata": {},
   "outputs": [],
   "source": []
  }
 ],
 "metadata": {
  "kernelspec": {
   "display_name": "quant-trading",
   "language": "python",
   "name": "quant-trading"
  },
  "language_info": {
   "codemirror_mode": {
    "name": "ipython",
    "version": 3
   },
   "file_extension": ".py",
   "mimetype": "text/x-python",
   "name": "python",
   "nbconvert_exporter": "python",
   "pygments_lexer": "ipython3",
   "version": "3.9.1"
  }
 },
 "nbformat": 4,
 "nbformat_minor": 4
}
